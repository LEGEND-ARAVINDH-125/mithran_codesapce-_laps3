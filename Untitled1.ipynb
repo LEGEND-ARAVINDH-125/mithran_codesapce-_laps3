{
  "nbformat": 4,
  "nbformat_minor": 0,
  "metadata": {
    "colab": {
      "name": "Untitled0.ipynb",
      "provenance": [],
      "collapsed_sections": [],
      "authorship_tag": "ABX9TyMcR/pU1ql/5BMYlXEewlMB",
      "include_colab_link": true
    },
    "kernelspec": {
      "name": "python3",
      "display_name": "Python 3"
    },
    "language_info": {
      "name": "python"
    }
  },
  "cells": [
    {
      "cell_type": "markdown",
      "metadata": {
        "id": "view-in-github",
        "colab_type": "text"
      },
      "source": [
        "<a href=\"https://colab.research.google.com/github/SAravindh125/mithran-aravindhproject/blob/main/Untitled1.ipynb\" target=\"_parent\"><img src=\"https://colab.research.google.com/assets/colab-badge.svg\" alt=\"Open In Colab\"/></a>"
      ]
    },
    {
      "cell_type": "code",
      "metadata": {
        "id": "tnWeLTgoEwF6"
      },
      "source": [
        "#program to convert km to miles\n",
        "#1km = 0.621 miles\n",
        "D=int(input(\"Enter distance in km :\"))\n",
        "print(D*0.621)"
      ],
      "execution_count": null,
      "outputs": []
    },
    {
      "cell_type": "code",
      "metadata": {
        "id": "zDDLkiPPbQRo"
      },
      "source": [
        "#list\n",
        "\n",
        "#add name to a list - part 1 & 2\n",
        "students = [\"Aravindh\",\"Abishek\",\"Aadi\",\"Akash\"]\n",
        "n = str(input(\"Enter the name you wish to add :\"))\n",
        "students.append(n)\n",
        "print(students)\n",
        "\n",
        "#make a copy of this list:part 3\n",
        "students = [\"Aravindh\", \"Abishek\", \"Aadi\", \"Akash\", \"Kavhein\"]\n",
        "print(students)\n",
        "\n",
        "#no of elements:part 4\n",
        "students.count(students)\n",
        "\n",
        "#insert an element;part 6 & 7\n",
        "students.insert(0,\"Akil\")\n",
        "students.remove(\"Abishek\")\n",
        "print(students)\n",
        "\n",
        "#sort- part 8\n",
        "students.sort()\n",
        "print(students)\n",
        "\n",
        "#reverse sort part 9\n",
        "students.reverse()\n",
        "print(students)\n",
        "\n",
        "#join list;\n",
        "no=[\"1000\",\"1001\",\"1002\",\"1003\",\"1004\"]\n",
        "students = [\"Aravindh\", \"Abishek\", \"Aadi\", \"Akash\", \"Kavhein\"]\n",
        "print()\n",
        "print(no + students)\n"
      ],
      "execution_count": null,
      "outputs": []
    },
    {
      "cell_type": "code",
      "metadata": {
        "id": "Tc55Ou0pFfyq"
      },
      "source": [
        "#program to convert celcius to fahrenheit\n",
        "#1 celcius = 33.8° fahrenheit\n",
        "T=int(input(\"Enter temperature in celcius :\"))\n",
        "print(T*9/5+32)"
      ],
      "execution_count": null,
      "outputs": []
    },
    {
      "cell_type": "code",
      "metadata": {
        "id": "QOdTYm_mHUrs",
        "colab": {
          "base_uri": "https://localhost:8080/"
        },
        "outputId": "8b89a416-64bf-41ee-bae4-a167cdf94d82"
      },
      "source": [
        "#calculate angle of :#1 degree\n",
        "                     #1'\n",
        "                     #1\n",
        "# degree to angle                                                                                                                                                                                                                                                                                                                                                                                                                   \n",
        "n=int(input(\"enter the degree :\"))\n",
        "ndegree =  (3.14/180*n)\n",
        "print(ndegree)   \n",
        "\n",
        "#min to angle\n",
        "onedeg = 0.01745\n",
        "n =int(input(\"enter the min :\")) \n",
        "minute = (0.01745/60 * (n))\n",
        "print(minute)\n",
        "\n",
        "#second to angle\n",
        "n=int(input(\"enter the seconds:\"))\n",
        "second = (0.00000485 * n)\n",
        "print (second)\n"
      ],
      "execution_count": null,
      "outputs": [
        {
          "output_type": "stream",
          "text": [
            "enter the degree :1\n",
            "0.017444444444444446\n",
            "enter the min :1\n",
            "0.0002908333333333333\n",
            "enter the seconds:1\n",
            "4.85e-06\n"
          ],
          "name": "stdout"
        }
      ]
    },
    {
      "cell_type": "code",
      "metadata": {
        "colab": {
          "base_uri": "https://localhost:8080/"
        },
        "id": "2fINNQBxCXRL",
        "outputId": "828ca2dc-ca9b-43e4-fb58-f801751ce3d5"
      },
      "source": [
        "#3.1\n",
        "d= int(input(\"enter the displacement:\"))\n",
        "t = int(input(\"Enter the time taken :\"))\n",
        "Avgvelocity = (d/t) \n",
        "print(Avgvelocity)\n",
        "\n",
        "p=int(input(\"Enter the path legth :\"))\n",
        "t=int(input(\"enter the time :\"))\n",
        "avgspeed = (p/t)\n",
        "print(avgspeed)"
      ],
      "execution_count": null,
      "outputs": [
        {
          "output_type": "stream",
          "text": [
            "enter the displacement:360\n",
            "Enter the time taken :18\n",
            "20.0\n",
            "Enter the path legth :480\n",
            "enter the time :24\n",
            "20.0\n"
          ],
          "name": "stdout"
        }
      ]
    },
    {
      "cell_type": "code",
      "metadata": {
        "colab": {
          "base_uri": "https://localhost:8080/"
        },
        "id": "VNF266nLpA4-",
        "outputId": "bbc49881-c628-47f1-fb14-ce71130421b3"
      },
      "source": [
        "#check whether the no is positive or negative:\n",
        "n = int(input(\"enter the number:\"))\n",
        "if n>>0:\n",
        "  print(\"the number is positive\")\n",
        "elif n == 0 :\n",
        "  print(\"the number is zero\")\n",
        "else :\n",
        "  print(\"the number is negative\")"
      ],
      "execution_count": 2,
      "outputs": [
        {
          "output_type": "stream",
          "text": [
            "enter the number:0\n",
            "the number is zero\n"
          ],
          "name": "stdout"
        }
      ]
    },
    {
      "cell_type": "code",
      "metadata": {
        "colab": {
          "base_uri": "https://localhost:8080/"
        },
        "id": "jMmontdPqWtc",
        "outputId": "4a434426-8a9f-44a6-d393-caf07f80bd29"
      },
      "source": [
        "#prog to find sum of natural numbers:\n",
        "n = int(input(\"enter the number of terms:\"))\n",
        "a = int(input(\"enter the first term :\"))\n",
        "l = int(input(\"enter the last term :\"))\n",
        "sn = (n/2*(a+l))\n",
        "print(sn)"
      ],
      "execution_count": 4,
      "outputs": [
        {
          "output_type": "stream",
          "text": [
            "enter the number of terms:2\n",
            "enter the first term :1\n",
            "enter the last term :2\n",
            "3.0\n"
          ],
          "name": "stdout"
        }
      ]
    },
    {
      "cell_type": "code",
      "metadata": {
        "colab": {
          "base_uri": "https://localhost:8080/"
        },
        "id": "k6EXit2bsJJM",
        "outputId": "f4f4cf2e-c0a4-4bee-acc7-49f01b8ba1dc"
      },
      "source": [
        "import calendar\n",
        "yy = 1989\n",
        "mm = 12\n",
        "dd = 23\n",
        "print(calendar.month(yy,mm))"
      ],
      "execution_count": 14,
      "outputs": [
        {
          "output_type": "stream",
          "text": [
            "                                                                             December 1989\n",
            "         Monday                 Tuesday                Wednesday                Thursday                 Friday                 Saturday                 Sunday\n",
            "                                                                                                            1                       2                       3\n",
            "            4                       5                       6                       7                       8                       9                      10\n",
            "           11                      12                      13                      14                      15                      16                      17\n",
            "           18                      19                      20                      21                      22                      23                      24\n",
            "           25                      26                      27                      28                      29                      30                      31\n",
            "\n"
          ],
          "name": "stdout"
        }
      ]
    },
    {
      "cell_type": "code",
      "metadata": {
        "colab": {
          "base_uri": "https://localhost:8080/"
        },
        "id": "z5tjZ-EXEGrO",
        "outputId": "2c109f3e-853b-4f69-b84b-e02af540a5e0"
      },
      "source": [
        "#prog to check whether no is even or odd\n",
        "n = int(input(\"enter the number:\"))\n",
        "if n%2 == 0:\n",
        "  print(\"The number is even\")\n",
        "else :\n",
        "  print(\"the number is odd\")"
      ],
      "execution_count": null,
      "outputs": [
        {
          "output_type": "stream",
          "text": [
            "enter the number:12\n",
            "The number is even\n"
          ],
          "name": "stdout"
        }
      ]
    },
    {
      "cell_type": "code",
      "metadata": {
        "colab": {
          "base_uri": "https://localhost:8080/"
        },
        "id": "Bw-EMDLiFKeE",
        "outputId": "f28e78c1-87e3-4c18-db58-30fbe50278cb"
      },
      "source": [
        "#prog to check largest of three numbers\n",
        "ni = int(input(\"enter the 1st no :\"))\n",
        "nii = int(input(\"enter the 2nd no :\"))\n",
        "niii = int(input(\"enter the 3rd no :\"))\n",
        "if (ni >= nii) and (ni >= niii):\n",
        " largest = ni\n",
        "elif (nii >= ni) and (nii >= niii):\n",
        " largest = nii\n",
        "else :\n",
        " largest = niii\n",
        "print(\"the largest no is\" , largest)"
      ],
      "execution_count": null,
      "outputs": [
        {
          "output_type": "stream",
          "text": [
            "enter the 1st no :15\n",
            "enter the 2nd no :14\n",
            "enter the 3rd no :97\n",
            "the largest no is 97\n"
          ],
          "name": "stdout"
        }
      ]
    }
  ]
}
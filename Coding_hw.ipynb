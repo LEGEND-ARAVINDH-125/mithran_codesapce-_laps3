{
  "nbformat": 4,
  "nbformat_minor": 0,
  "metadata": {
    "colab": {
      "name": "Coding hw",
      "provenance": [],
      "collapsed_sections": [],
      "authorship_tag": "ABX9TyN8ATrYP+NHblKx3yDa5tPJ",
      "include_colab_link": true
    },
    "kernelspec": {
      "name": "python3",
      "display_name": "Python 3"
    },
    "language_info": {
      "name": "python"
    }
  },
  "cells": [
    {
      "cell_type": "markdown",
      "metadata": {
        "id": "view-in-github",
        "colab_type": "text"
      },
      "source": [
        "<a href=\"https://colab.research.google.com/github/SAravindh125/mithran-aravindhproject/blob/main/Coding_hw.ipynb\" target=\"_parent\"><img src=\"https://colab.research.google.com/assets/colab-badge.svg\" alt=\"Open In Colab\"/></a>"
      ]
    },
    {
      "cell_type": "code",
      "metadata": {
        "colab": {
          "base_uri": "https://localhost:8080/"
        },
        "id": "f17LaJenlAn_",
        "outputId": "1d825dc0-3ce1-45c5-b61b-4c177037381a"
      },
      "source": [
        "#Prepare a students database\n",
        "#Input required(Name,D.O.B,Class)\n",
        "\n",
        "def details (name , DOB , Class):\n",
        "\n",
        "  print(\"Name :\" + name)\n",
        "  print(\"DOB :\" + DOB)\n",
        "  print(\"Class :\" + Class)\n",
        "\n",
        "details(\"Aravindh\",\"02.04.2006\",\"11\")\n",
        "details(\"Kavhein\",\"03.05.2006\",\"11\")\n",
        "details(\"Abishek\",\"04.06.2006\",\"11\")\n",
        "details(\"Aadi\",\"05.07.2006\",\"11\")\n",
        "details(\"Steve\",\"06.08.2006\",\"12\")\n"
      ],
      "execution_count": null,
      "outputs": [
        {
          "output_type": "stream",
          "text": [
            "Name :Aravindh\n",
            "DOB :02.04.2006\n",
            "Class :11\n",
            "Name :Kavhein\n",
            "DOB :03.05.2006\n",
            "Class :11\n",
            "Name :Abishek\n",
            "DOB :04.06.2006\n",
            "Class :11\n",
            "Name :Aadi\n",
            "DOB :05.07.2006\n",
            "Class :11\n",
            "Name :Steve\n",
            "DOB :06.08.2006\n",
            "Class :12\n"
          ],
          "name": "stdout"
        }
      ]
    },
    {
      "cell_type": "code",
      "metadata": {
        "colab": {
          "base_uri": "https://localhost:8080/"
        },
        "id": "3jMkGtzn37M1",
        "outputId": "4977a0a0-fef2-4a40-9d1d-54618356734a"
      },
      "source": [
        "#dictionaries\n",
        "cars = {\"Audi\",\"Bugati\",\"Porche\",\"Benz\",\"BMW\",\"Lamborghini\",\"Rolls royce\",\"Kia\",\"Maruti\",\"Ferrari\"}\n",
        "print(cars)\n",
        "\n",
        "\n",
        "Data = str(input(\"name any name of a car to find whether it is here or not :\" ))\n",
        "\n",
        "if Data in cars :\n",
        " print(str(Data)+ \" is present in my awesome data\")\n",
        "\n",
        "else:\n",
        " print(str(Data)+ \" is not present in my awesome data\") "
      ],
      "execution_count": 15,
      "outputs": [
        {
          "output_type": "stream",
          "text": [
            "{'Maruti', 'Kia', 'Audi', 'Rolls royce', 'Ferrari', 'BMW', 'Bugati', 'Lamborghini', 'Porche', 'Benz'}\n",
            "name any name of a car to find whether it is here or not :Suzuki\n",
            "Suzuki is not present in my awesome data\n"
          ],
          "name": "stdout"
        }
      ]
    }
  ]
}
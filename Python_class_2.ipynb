{
  "nbformat": 4,
  "nbformat_minor": 0,
  "metadata": {
    "colab": {
      "name": "Python class - 2",
      "provenance": [],
      "collapsed_sections": [],
      "authorship_tag": "ABX9TyNlLi84uDehpUwELL+zSTAg",
      "include_colab_link": true
    },
    "kernelspec": {
      "name": "python3",
      "display_name": "Python 3"
    },
    "language_info": {
      "name": "python"
    }
  },
  "cells": [
    {
      "cell_type": "markdown",
      "metadata": {
        "id": "view-in-github",
        "colab_type": "text"
      },
      "source": [
        "<a href=\"https://colab.research.google.com/github/SAravindh125/mithran-aravindhproject/blob/main/Python_class_2.ipynb\" target=\"_parent\"><img src=\"https://colab.research.google.com/assets/colab-badge.svg\" alt=\"Open In Colab\"/></a>"
      ]
    },
    {
      "cell_type": "code",
      "metadata": {
        "id": "EOdAiDaPMAw4",
        "colab": {
          "base_uri": "https://localhost:8080/",
          "height": 128
        },
        "outputId": "b6da700d-2e5c-404a-f084-73d49e0cb16e"
      },
      "source": [
        "num1 = int(input(\"Enter first number : \"))\n",
        "num2 = int(input(\"Enter second number : \"))\n",
        "op = int(input(\" Enter operation : \"))\n",
        "  print(\"num1\" (\"op\") \"num2\")"
      ],
      "execution_count": null,
      "outputs": [
        {
          "output_type": "error",
          "ename": "IndentationError",
          "evalue": "ignored",
          "traceback": [
            "\u001b[0;36m  File \u001b[0;32m\"<ipython-input-8-558b31ba5b3c>\"\u001b[0;36m, line \u001b[0;32m4\u001b[0m\n\u001b[0;31m    print(\"num1\" (\"op\") \"num2\")\u001b[0m\n\u001b[0m    ^\u001b[0m\n\u001b[0;31mIndentationError\u001b[0m\u001b[0;31m:\u001b[0m unexpected indent\n"
          ]
        }
      ]
    },
    {
      "cell_type": "code",
      "metadata": {
        "id": "ppRErji9doU2"
      },
      "source": [
        "# Python program for simple calculator\n",
        "\n",
        "# Function to add two numbers\n",
        "def add(num1, num2):\n",
        "\treturn num1 + num2\n",
        "\n",
        "# Function to subtract two numbers\n",
        "def subtract(num1, num2):\n",
        "\treturn num1 - num2\n",
        "\n",
        "# Function to multiply two numbers\n",
        "def multiply(num1, num2):\n",
        "\treturn num1 * num2\n",
        "\n",
        "# Function to divide two numbers\n",
        "def divide(num1, num2):\n",
        "\treturn num1 / num2\n",
        "\n",
        "print(\"Please select operation -\\n\" \\\n",
        "\t\t\"1. Add\\n\" \\\n",
        "\t\t\"2. Subtract\\n\" \\\n",
        "\t\t\"3. Multiply\\n\" \\\n",
        "\t\t\"4. Divide\\n\")\n",
        "\n",
        "\n",
        "# Take input from the user\n",
        "select = int(input(\"Select operations form 1, 2, 3, 4 :\"))\n",
        "\n",
        "number_1 = int(input(\"Enter first number: \"))\n",
        "number_2 = int(input(\"Enter second number: \"))\n",
        "\n",
        "if select == 1:\n",
        "  print(number_1, \"+\", number_2, \"=\",\n",
        "\t\t\t\t\tadd(number_1, number_2))\n",
        "\n",
        "elif select == 2:\n",
        "\tprint(number_1, \"-\", number_2, \"=\",\n",
        "\t\t\t\t\tsubtract(number_1, number_2))\n",
        "\n",
        "elif select == 3:\n",
        "\tprint(number_1, \"*\", number_2, \"=\",\n",
        "\t\t\t\t\tmultiply(number_1, number_2))\n",
        "\n",
        "elif select == 4:\n",
        "\tprint(number_1, \"/\", number_2, \"=\",\n",
        "\t\t\t\t\tdivide(number_1, number_2))\n",
        "else:\n",
        "\tprint(\"Invalid input\")\n"
      ],
      "execution_count": null,
      "outputs": []
    },
    {
      "cell_type": "code",
      "metadata": {
        "id": "wgsTseSFdraC",
        "colab": {
          "base_uri": "https://localhost:8080/"
        },
        "outputId": "de190dc8-1869-4b4e-ced7-0a3c7722e41f"
      },
      "source": [
        "# Write a code to define a list of 10 numbers .. that are in AP..\n",
        "# But you should not type all the numbers\n",
        "# The program itself should create a list of 10 numbers\n",
        "\n",
        "#let the user be entering the values of the First term and Common difference in an A.P.\n",
        " \n",
        "for i in range(1,5):\n",
        "13\n",
        "#thus,\n",
        "#First term :\n",
        " a = int(input(\" Enter the first term : \"))\n",
        "\n",
        "#common difference :\n",
        " d = int(input( \" Enter the common difference :\"))\n",
        "\n",
        "#number of term:\n",
        " n = int(input ( \" Enter the number of that term :\"))\n",
        " ap= (a+n*d)  \n",
        " print(ap)"
      ],
      "execution_count": null,
      "outputs": [
        {
          "output_type": "stream",
          "text": [
            " Enter the first term : 1\n",
            " Enter the common difference :1\n",
            " Enter the number of that term :2\n",
            "3\n",
            " Enter the first term : 1\n",
            " Enter the common difference :1\n",
            " Enter the number of that term :1\n",
            "2\n",
            " Enter the first term : 1\n",
            " Enter the common difference :1\n",
            " Enter the number of that term :2\n",
            "3\n",
            " Enter the first term : 1\n",
            " Enter the common difference :1\n",
            " Enter the number of that term :6\n",
            "7\n",
            " Enter the first term : 4\n",
            " Enter the common difference :5\n",
            " Enter the number of that term :5\n",
            "29\n",
            " Enter the first term : 1\n",
            " Enter the common difference :2\n",
            " Enter the number of that term :3\n",
            "7\n",
            " Enter the first term : 1\n",
            " Enter the common difference :5\n",
            " Enter the number of that term :6\n",
            "31\n",
            " Enter the first term : 1\n",
            " Enter the common difference :2\n",
            " Enter the number of that term :3\n",
            "7\n",
            " Enter the first term : 1\n",
            " Enter the common difference :1\n",
            " Enter the number of that term :1\n",
            "2\n"
          ],
          "name": "stdout"
        }
      ]
    },
    {
      "cell_type": "code",
      "metadata": {
        "id": "tYXPDXAYgBkG"
      },
      "source": [
        ""
      ],
      "execution_count": null,
      "outputs": []
    }
  ]
}